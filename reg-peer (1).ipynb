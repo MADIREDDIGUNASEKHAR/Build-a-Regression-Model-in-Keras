{
 "cells": [
  {
   "cell_type": "markdown",
   "id": "049eab63",
   "metadata": {},
   "source": [
    "# Regression Model in Keras\n",
    "## Part of the Introduction to deep learning at Coursera"
   ]
  },
  {
   "cell_type": "markdown",
   "id": "57859d61",
   "metadata": {},
   "source": [
    "### 0. Import & Preprocessing Data - Split to train & test"
   ]
  },
  {
   "cell_type": "code",
   "execution_count": 2,
   "id": "5c8c1f95",
   "metadata": {},
   "outputs": [],
   "source": [
    "import pandas as pd\n",
    "\n",
    "#Import data\n",
    "ctdf = pd.read_csv('data/concrete_data.csv')\n",
    "ctdf.shape\n",
    "ctdf.head()\n",
    "\n",
    "#Extract predictors and target\n",
    "ctPredColnames = ctdf.columns[ctdf.columns!='Strength']\n",
    "ctPredictors = ctdf[ctPredColnames]\n",
    "ctTarget = ctdf.drop(ctPredColnames, axis=1)\n",
    "\n",
    "#Separate Train and Test data\n",
    "from sklearn.model_selection import train_test_split\n",
    "ctPredTrain, ctPredTest, ctTargetTrain, ctTargetTest = train_test_split(\n",
    "    ctPredictors, ctTarget, test_size = 0.3, random_state = 8)"
   ]
  },
  {
   "cell_type": "markdown",
   "id": "c0fac506",
   "metadata": {},
   "source": [
    "### A. Build a baseline model"
   ]
  },
  {
   "cell_type": "code",
   "execution_count": 3,
   "id": "5ccc9107",
   "metadata": {},
   "outputs": [],
   "source": [
    "#Import keras\n",
    "from keras.models import Sequential\n",
    "from keras.layers import Dense\n",
    "\n",
    "#Create the model\n",
    "def regression_model():\n",
    "    model = Sequential()\n",
    "    model.add(Dense(10, activation = 'relu', input_shape = (ctPredictors.shape[1],)))\n",
    "    model.add(Dense(1))\n",
    "    #Complie model\n",
    "    model.compile(optimizer = 'adam', loss = 'mean_squared_error')\n",
    "    #Return\n",
    "    return model\n",
    "\n",
    "model = regression_model()\n",
    "\n",
    "#Fit the model\n",
    "fitted = model.fit(ctPredTrain, ctTargetTrain, \n",
    "                   validation_data = (ctPredTest, ctTargetTest),\n",
    "                   epochs = 50, verbose = 0)\n",
    "\n",
    "#Put loss into Dataframe\n",
    "dfRep = pd.DataFrame(fitted.history)"
   ]
  },
  {
   "cell_type": "markdown",
   "id": "a0708bbc",
   "metadata": {},
   "source": [
    "#### Result of the baseline model"
   ]
  },
  {
   "cell_type": "code",
   "execution_count": 4,
   "id": "ff8a9724",
   "metadata": {},
   "outputs": [
    {
     "name": "stdout",
     "output_type": "stream",
     "text": [
      "(A)train (sd / mean): 7076.09 / 1882.76 & test (sd / mean): 3680.25 / 1258.74\n"
     ]
    }
   ],
   "source": [
    "#Report sd, mean\n",
    "print('(A)train (sd / mean):',round(dfRep['loss'].std(),2),'/',round(dfRep['loss'].mean(),2),\n",
    "      '&','test (sd / mean):',round(dfRep['val_loss'].std(),2),'/',round(dfRep['val_loss'].mean(),2))"
   ]
  },
  {
   "cell_type": "markdown",
   "id": "f16a00f6",
   "metadata": {},
   "source": [
    "### B. Normalize the data"
   ]
  },
  {
   "cell_type": "code",
   "execution_count": 5,
   "id": "621cfc32",
   "metadata": {},
   "outputs": [],
   "source": [
    "#Normalize predictors\n",
    "ctPredTrainNorm = (ctPredTrain - ctPredTrain.mean())/ctPredTrain.std()\n",
    "ctPredTestNorm = (ctPredTest - ctPredTest.mean())/ctPredTest.std()\n",
    "\n",
    "#Fit model on normalized data\n",
    "fittedNorm = model.fit(ctPredTrainNorm, ctTargetTrain, \n",
    "                   validation_data = (ctPredTestNorm, ctTargetTest),\n",
    "                   epochs = 50, verbose = 0)\n",
    "\n",
    "dfRepNorm = pd.DataFrame(fittedNorm.history)"
   ]
  },
  {
   "cell_type": "markdown",
   "id": "0b3a6659",
   "metadata": {},
   "source": [
    "#### Result of the model on normalized data"
   ]
  },
  {
   "cell_type": "code",
   "execution_count": 6,
   "id": "3795bde1",
   "metadata": {},
   "outputs": [
    {
     "name": "stdout",
     "output_type": "stream",
     "text": [
      "(B)train (sd / mean): 321.37 / 909.75 & test (sd / mean): 319.92 / 924.46\n"
     ]
    }
   ],
   "source": [
    "#Report sd, mean\n",
    "print('(B)train (sd / mean):',round(dfRepNorm['loss'].std(),2),'/',round(dfRepNorm['loss'].mean(),2),\n",
    "      '&','test (sd / mean):',round(dfRepNorm['val_loss'].std(),2),'/',round(dfRepNorm['val_loss'].mean(),2))"
   ]
  },
  {
   "cell_type": "markdown",
   "id": "613baf33",
   "metadata": {},
   "source": [
    "> We can see that the mean are drastically lower for B since the predictors have been normalized. Since mean squre error is a sum of error, it's natural to have lower sum with lower values."
   ]
  },
  {
   "cell_type": "markdown",
   "id": "80da8bd1",
   "metadata": {},
   "source": [
    "### C. Increate the number of epochs"
   ]
  },
  {
   "cell_type": "code",
   "execution_count": 7,
   "id": "9a467144",
   "metadata": {},
   "outputs": [
    {
     "name": "stdout",
     "output_type": "stream",
     "text": [
      "(C)train (sd / mean): 91.44 / 238.14 & test (sd / mean): 92.51 / 252.85\n"
     ]
    }
   ],
   "source": [
    "fittedNorm100 = model.fit(ctPredTrainNorm, ctTargetTrain, \n",
    "                   validation_data = (ctPredTestNorm, ctTargetTest),\n",
    "                   epochs = 100, verbose = 0)\n",
    "\n",
    "dfRepNorm100 = pd.DataFrame(fittedNorm100.history)\n",
    "\n",
    "print('(C)train (sd / mean):',round(dfRepNorm100['loss'].std(),2),'/',round(dfRepNorm100['loss'].mean(),2),\n",
    "      '&','test (sd / mean):',round(dfRepNorm100['val_loss'].std(),2),'/',round(dfRepNorm100['val_loss'].mean(),2))"
   ]
  },
  {
   "cell_type": "markdown",
   "id": "916fb162",
   "metadata": {},
   "source": [
    "> We can see that losses are lower as we increase epochs. This the model fits better as we iterate more. Hence, the losses gradually declined."
   ]
  },
  {
   "cell_type": "markdown",
   "id": "0c67ffdc",
   "metadata": {},
   "source": [
    "### D. Increase the number of hidden layers"
   ]
  },
  {
   "cell_type": "code",
   "execution_count": 8,
   "id": "00cda60b",
   "metadata": {},
   "outputs": [
    {
     "name": "stdout",
     "output_type": "stream",
     "text": [
      "(D)train (sd / mean): 428.94 / 346.47 & test (sd / mean): 417.59 / 347.05\n"
     ]
    }
   ],
   "source": [
    "def regression_model():\n",
    "    model2 = Sequential()\n",
    "    model2.add(Dense(10, activation = 'relu', input_shape = (ctPredictors.shape[1],)))\n",
    "    model2.add(Dense(10, activation = 'relu'))\n",
    "    model2.add(Dense(10, activation = 'relu'))\n",
    "    model2.add(Dense(1))\n",
    "    #Complie model\n",
    "    model2.compile(optimizer = 'adam', loss = 'mean_squared_error')\n",
    "    #Return\n",
    "    return model2\n",
    "\n",
    "model2 = regression_model()\n",
    "\n",
    "fitted3layers = model2.fit(ctPredTrainNorm, ctTargetTrain, \n",
    "                   validation_data = (ctPredTestNorm, ctTargetTest),\n",
    "                   epochs = 50, verbose = 0)\n",
    "\n",
    "dfRepNorm3l = pd.DataFrame(fitted3layers.history)\n",
    "\n",
    "print('(D)train (sd / mean):',round(dfRepNorm3l['loss'].std(),2),'/',round(dfRepNorm3l['loss'].mean(),2),\n",
    "      '&','test (sd / mean):',round(dfRepNorm3l['val_loss'].std(),2),'/',round(dfRepNorm3l['val_loss'].mean(),2))"
   ]
  },
  {
   "cell_type": "markdown",
   "id": "ca3ab99d",
   "metadata": {},
   "source": [
    "> The means of MSE are better than B but not better than C. This indicates that increasing hidden layers might result in a better model. However, that is not the only factor since C does better by only increasing epochs."
   ]
  },
  {
   "cell_type": "code",
   "execution_count": null,
   "id": "8251912b",
   "metadata": {},
   "outputs": [],
   "source": []
  }
 ],
 "metadata": {
  "kernelspec": {
   "display_name": "Python 3 (Spyder)",
   "language": "python3",
   "name": "python3"
  },
  "language_info": {
   "codemirror_mode": {
    "name": "ipython",
    "version": 3
   },
   "file_extension": ".py",
   "mimetype": "text/x-python",
   "name": "python",
   "nbconvert_exporter": "python",
   "pygments_lexer": "ipython3",
   "version": "3.8.8"
  }
 },
 "nbformat": 4,
 "nbformat_minor": 5
}
